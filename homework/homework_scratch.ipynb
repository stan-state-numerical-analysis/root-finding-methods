{
 "cells": [
  {
   "cell_type": "markdown",
   "metadata": {},
   "source": [
    "# Task 1"
   ]
  },
  {
   "cell_type": "code",
   "execution_count": null,
   "metadata": {},
   "outputs": [],
   "source": [
    "# Task: Implement Newton's Root-Finding Method in Python.\n",
    "\n",
    "# 1. Define a function called newtons_method that takes the following parameters:\n",
    "#    - f: The function whose root is to be found.\n",
    "#    - f_prime: The derivative of the function f.\n",
    "#    - x0: The initial guess for the root.\n",
    "#    - tol: The tolerance for the difference between successive approximations.\n",
    "#    - max_iterations: The maximum number of iterations to perform.\n",
    "\n",
    "\n",
    "\n",
    "  # 2. Inside the newtons_method function, initialize a variable called x_n with the value of x0.\n",
    "\n",
    "\n",
    "\n",
    "  # 3. Create a for loop that does max_iterations number of steps.\n",
    "\n",
    "\n",
    "\n",
    "    # 5. For each step in the loop, compute the next approximation x_next using the Newton's method formula.\n",
    "\n",
    "\n",
    "\n",
    "    # 6. Check if the absolute difference between x_next and x_n is less than the specified tolerance.\n",
    "    #    If so, return x_next.\n",
    "\n",
    "\n",
    "\n",
    "    # 7. If the tolerance condition is not met, update x_n to x_next for the next iteration.\n",
    "\n",
    "\n",
    "\n",
    "  # 8. If the maximum number of iterations is reached without a return, print a message\n",
    "  #    saying \"Maximum number of iterations reached\" and return the last computed value of x_n."
   ]
  },
  {
   "cell_type": "markdown",
   "metadata": {},
   "source": [
    "# Task 2"
   ]
  },
  {
   "cell_type": "code",
   "execution_count": null,
   "metadata": {},
   "outputs": [],
   "source": [
    "# Task: Apply the Central Difference Method for Newton's Method and visualize the output.\n",
    "\n",
    "# 1. Define a function called central_difference that outputs the central difference method approximation of\n",
    "# the derivative of a function using the h value 1e-5.\n",
    "#    - Parameters: \n",
    "#      - f: The function whose derivative is to be approximated.\n",
    "#      - x: The point at which to approximate the derivative."
   ]
  },
  {
   "cell_type": "code",
   "execution_count": null,
   "metadata": {},
   "outputs": [],
   "source": [
    "# 2. Import the matplotlib.pyplot, numpy, and the newtons_method function from the task_1.py file."
   ]
  },
  {
   "cell_type": "code",
   "execution_count": null,
   "metadata": {},
   "outputs": [],
   "source": [
    "# 3. Define a new function called plot_newtons_method that applies Newton's method to find the root\n",
    "#    of any function and plots the results.\n",
    "#    - Parameters:\n",
    "#      - f: The function whose root is being found.\n",
    "#      - x_interval: A tuple specifying the interval of x values containing the root.\n",
    "# Inside plot_newtons_method, do the following...\n",
    "\n",
    "  # 4. Use the central_difference function to create a function called f_prime which takes in an x-value\n",
    "  # and returns an approximation of the derivative of the function f (a parameter of plot_newtons_method).\n",
    "\n",
    "\n",
    "\n",
    "  # 5. Initialize a variable called x0 which is the midpoint of the interval defined by x_interval.\n",
    "\n",
    "\n",
    "\n",
    "  # 6. Initialize a variable called root_approx which is the approximation of a root of f near x0\n",
    "  # returned by newtons_method with a tolerance of 1e-5 and a maximum of 1000 iterations.\n",
    "\n",
    "\n",
    "\n",
    "  # 7. Initialize a variable called x_values containing 1000 equally spaced values spanning x_interval.\n",
    "\n",
    "\n",
    "\n",
    "  # 8. Initialize a variable called y_values which is a list of the evaluations of the input function f\n",
    "  # at each value in x_values.\n",
    "\n",
    "\n",
    "    \n",
    "  fig, ax = plt.subplots(figsize=(14, 8))\n",
    "  \n",
    "  # 9. Use x_values and y_values to plot the function f over the given x-interval.\n",
    "\n",
    "\n",
    "\n",
    "  # 10. Use ax.scatter to plot the point (root_approx, f(root_approx)) in the color red with size 200. Set the label so it\n",
    "  # gives the x and y coordinates of the root estimate like so: (estimate, f(estimate))\n",
    "\n",
    "\n",
    "\n",
    "  ax.set_xlabel(\"x\")\n",
    "  ax.set_ylabel(\"f(x)\")\n",
    "  ax.set_title(f\"Approximation of the Root of f(x) in [{x_interval[0]}, {x_interval[1]}]\")\n",
    "  ax.legend(scatterpoints=1)\n",
    "  ax.grid(True)\n",
    "\n",
    "  return fig"
   ]
  },
  {
   "cell_type": "markdown",
   "metadata": {},
   "source": [
    "# Task 3"
   ]
  },
  {
   "cell_type": "code",
   "execution_count": null,
   "metadata": {},
   "outputs": [],
   "source": [
    "# Task: Apply Newton's Method to find extreme values and visualize the output.\n",
    "\n",
    "# 1. Import the matplotlib.pyplot, numpy, the newtons_method function from the task_1.py file, and the central_difference\n",
    "# function from the task_2.py file."
   ]
  },
  {
   "cell_type": "code",
   "execution_count": null,
   "metadata": {},
   "outputs": [],
   "source": [
    "# 2. Define a new function called plot_extreme_value that applies Newton's method to find an extreme value\n",
    "#    of any function and plots the results.\n",
    "#    - Parameters:\n",
    "#      - f: The function whose derivative is being analyzed.\n",
    "#      - x_interval: A tuple specifying the interval of x values containing the extreme value.\n",
    "\n",
    "\n",
    "\n",
    "  # 3. Copy and paste the code inside plot_newtons_method from the task_2.py file into this plot_extreme_value function\n",
    "  # and make the necessary changes to find and plot an extreme value of f on the x_interval (and plot f itself).\n",
    "  # Make the title of the plot: f\"Approximation of an Extreme Value of f(x) in [{x_values[0]}, {x_values[1]}]\""
   ]
  }
 ],
 "metadata": {
  "language_info": {
   "name": "python"
  }
 },
 "nbformat": 4,
 "nbformat_minor": 2
}
